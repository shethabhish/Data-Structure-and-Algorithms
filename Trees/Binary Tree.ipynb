{
 "cells": [
  {
   "cell_type": "code",
   "execution_count": 1,
   "metadata": {},
   "outputs": [],
   "source": [
    "class BinaryTree(object):\n",
    "    \n",
    "    def __init__(self, root):\n",
    "        self.root = root\n",
    "        self.left = None\n",
    "        self.right = None\n",
    "    \n",
    "    def insertLeft(self, value):\n",
    "        if self.left == None:\n",
    "            self.left = BinaryTree(value)\n",
    "        \n",
    "        else:\n",
    "            t = BinaryTree(value)\n",
    "            t.left = self.left\n",
    "            self.left = t\n",
    "        \n",
    "    def insertRight(self, value):\n",
    "        if self.right == None:\n",
    "            self.right = BinaryTree(value)\n",
    "        \n",
    "        else:\n",
    "            t = BinaryTree(value)\n",
    "            t.right = self.right\n",
    "            self.right = t\n",
    "            \n",
    "    def getleft(self):\n",
    "        return self.left\n",
    "    \n",
    "    def getRight(self):\n",
    "        return self.right\n",
    "    \n",
    "    def setRoot(self, root):\n",
    "        self.root = root\n",
    "        \n",
    "    def getRoot(self):\n",
    "        return self.root"
   ]
  }
 ],
 "metadata": {
  "kernelspec": {
   "display_name": "Python 3",
   "language": "python",
   "name": "python3"
  },
  "language_info": {
   "codemirror_mode": {
    "name": "ipython",
    "version": 3
   },
   "file_extension": ".py",
   "mimetype": "text/x-python",
   "name": "python",
   "nbconvert_exporter": "python",
   "pygments_lexer": "ipython3",
   "version": "3.7.6"
  }
 },
 "nbformat": 4,
 "nbformat_minor": 4
}
