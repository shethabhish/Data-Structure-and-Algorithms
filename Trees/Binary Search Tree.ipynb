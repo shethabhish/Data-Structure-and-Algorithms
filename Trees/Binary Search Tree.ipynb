{
 "cells": [
  {
   "cell_type": "code",
   "execution_count": 1,
   "metadata": {},
   "outputs": [],
   "source": [
    "class Node: \n",
    "  \n",
    "    def __init__(self, key): \n",
    "        self.key = key  \n",
    "        self.left = None\n",
    "        self.right = None"
   ]
  },
  {
   "cell_type": "code",
   "execution_count": 2,
   "metadata": {},
   "outputs": [],
   "source": [
    "# A utility function to do inorder traversal of BST \n",
    "def inorder(root): \n",
    "    if root is not None: \n",
    "        inorder(root.left) \n",
    "        print(root.key), \n",
    "        inorder(root.right) \n",
    "  "
   ]
  },
  {
   "cell_type": "code",
   "execution_count": 3,
   "metadata": {},
   "outputs": [],
   "source": [
    "# A utility function to insert a new node with given key in BST \n",
    "def insert( node, key): \n",
    "  \n",
    "    # If the tree is empty, return a new node \n",
    "    if node is None: \n",
    "        return Node(key) \n",
    "  \n",
    "    # Otherwise recur down the tree \n",
    "    if key < node.key: \n",
    "        node.left = insert(node.left, key) \n",
    "    else: \n",
    "        node.right = insert(node.right, key) \n",
    "  \n",
    "    # return the (unchanged) node pointer \n",
    "    return node "
   ]
  },
  {
   "cell_type": "code",
   "execution_count": 4,
   "metadata": {},
   "outputs": [],
   "source": [
    "# Given a non-empty binary search tree, return the node \n",
    "# with minum key value found in that tree. Note that the \n",
    "# entire tree does not need to be searched  \n",
    "def minValueNode( node): \n",
    "    current = node \n",
    "  \n",
    "    # loop down to find the leftmost leaf \n",
    "    while(current.left is not None): \n",
    "        current = current.left  \n",
    "  \n",
    "    return current"
   ]
  },
  {
   "cell_type": "code",
   "execution_count": 5,
   "metadata": {},
   "outputs": [],
   "source": [
    "# Given a binary search tree and a key, this function \n",
    "# delete the key and returns the new root \n",
    "def deleteNode(root, key): \n",
    "  \n",
    "    # Base Case \n",
    "    if root is None: \n",
    "        return root  \n",
    "  \n",
    "    # If the key to be deleted is smaller than the root's \n",
    "    # key then it lies in  left subtree \n",
    "    if key < root.key: \n",
    "        root.left = deleteNode(root.left, key) \n",
    "  \n",
    "    # If the kye to be delete is greater than the root's key \n",
    "    # then it lies in right subtree \n",
    "    elif(key > root.key): \n",
    "        root.right = deleteNode(root.right, key) \n",
    "  \n",
    "    # If key is same as root's key, then this is the node \n",
    "    # to be deleted \n",
    "    else: \n",
    "          \n",
    "        # Node with only one child or no child \n",
    "        if root.left is None : \n",
    "            temp = root.right  \n",
    "            root = None \n",
    "            return temp  \n",
    "              \n",
    "        elif root.right is None : \n",
    "            temp = root.left  \n",
    "            root = None\n",
    "            return temp \n",
    "  \n",
    "        # Node with two children: Get the inorder successor \n",
    "        # (smallest in the right subtree) \n",
    "        temp = minValueNode(root.right) \n",
    "  \n",
    "        # Copy the inorder successor's content to this node \n",
    "        root.key = temp.key \n",
    "  \n",
    "        # Delete the inorder successor \n",
    "        root.right = deleteNode(root.right , temp.key) \n",
    "  \n",
    "  \n",
    "    return root"
   ]
  },
  {
   "cell_type": "code",
   "execution_count": 6,
   "metadata": {},
   "outputs": [],
   "source": [
    "def search(node,key): \n",
    "      \n",
    "    # Base Cases: root is null or key is present at root \n",
    "    if node is None or node.key == key: \n",
    "        return root \n",
    "  \n",
    "    # Key is greater than root's key \n",
    "    if node.key < key: \n",
    "        return search(node.right,key) \n",
    "    \n",
    "    # Key is smaller than root's key \n",
    "    return search(node.left,key)"
   ]
  }
 ],
 "metadata": {
  "kernelspec": {
   "display_name": "Python 3",
   "language": "python",
   "name": "python3"
  },
  "language_info": {
   "codemirror_mode": {
    "name": "ipython",
    "version": 3
   },
   "file_extension": ".py",
   "mimetype": "text/x-python",
   "name": "python",
   "nbconvert_exporter": "python",
   "pygments_lexer": "ipython3",
   "version": "3.7.6"
  }
 },
 "nbformat": 4,
 "nbformat_minor": 4
}
