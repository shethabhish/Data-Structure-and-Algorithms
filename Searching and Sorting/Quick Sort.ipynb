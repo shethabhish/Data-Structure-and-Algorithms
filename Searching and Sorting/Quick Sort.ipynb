{
 "cells": [
  {
   "cell_type": "code",
   "execution_count": 1,
   "metadata": {},
   "outputs": [],
   "source": [
    "def partition(arr,start,last):\n",
    "    \n",
    "    pivot = arr[start]\n",
    "    low = start+1\n",
    "    high = last\n",
    "    done = False\n",
    "    while not done:\n",
    "        while low <= high and arr[low] <= pivot:\n",
    "            low = low + 1\n",
    "        while low <= high and arr[high] >= pivot:\n",
    "            high = high -1\n",
    "        if low > high:\n",
    "            done = True\n",
    "        else:\n",
    "            arr[low],arr[high] =  arr[high], arr[low]\n",
    "\n",
    "    arr[start],arr[high] = arr[high],arr[start]\n",
    "\n",
    "    return high"
   ]
  },
  {
   "cell_type": "code",
   "execution_count": 2,
   "metadata": {},
   "outputs": [],
   "source": [
    "def quick_sort(arr):\n",
    "    \n",
    "    quick_sort_help(arr,0,len(arr)-1)\n",
    "\n",
    "def quick_sort_help(arr,first,last):\n",
    "    \n",
    "    if first<last:\n",
    "        split = partition(arr,first,last)\n",
    "        quick_sort_help(arr,first,split-1)\n",
    "        quick_sort_help(arr,split+1,last)\n"
   ]
  },
  {
   "cell_type": "code",
   "execution_count": 3,
   "metadata": {},
   "outputs": [
    {
     "data": {
      "text/plain": [
       "[1, 2, 3, 4, 4, 5, 6, 7, 11, 12]"
      ]
     },
     "execution_count": 3,
     "metadata": {},
     "output_type": "execute_result"
    }
   ],
   "source": [
    "arr = [2,5,4,6,7,3,1,4,12,11]\n",
    "quick_sort(arr)\n",
    "arr"
   ]
  },
  {
   "cell_type": "code",
   "execution_count": null,
   "metadata": {},
   "outputs": [],
   "source": []
  }
 ],
 "metadata": {
  "kernelspec": {
   "display_name": "Python 3",
   "language": "python",
   "name": "python3"
  },
  "language_info": {
   "codemirror_mode": {
    "name": "ipython",
    "version": 3
   },
   "file_extension": ".py",
   "mimetype": "text/x-python",
   "name": "python",
   "nbconvert_exporter": "python",
   "pygments_lexer": "ipython3",
   "version": "3.7.6"
  }
 },
 "nbformat": 4,
 "nbformat_minor": 4
}
